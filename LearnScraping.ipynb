{
 "cells": [
  {
   "cell_type": "markdown",
   "metadata": {},
   "source": [
    "## Les bases du python !\n",
    "\n",
    "Le langage Python est un langage de programmation open source multi-plateformes et orienté objet. Grâce à des bibliothèques spécialisées, Python s'utilise pour de nombreuses situations comme le développement logiciel, l'analyse de données, ou la gestion d'infrastructures.\n",
    "Python est un language haut niveau et est facile a apprendre car :\n",
    "\n",
    "    1. Le language est tres facile a lire et a comprendre.\n",
    "    2. Python a énormément de librairies, permettant de faire énormément de choses(IA, data sience, web developpement, etc...).\n",
    "    3. Il a une énorme communauté de programmeurs, qui ont probablement les réponses a toutes vos questions."
   ]
  },
  {
   "cell_type": "markdown",
   "metadata": {},
   "source": [
    "Pour ce workshop nous n'allons pas rentrer dans les détails du python, car ils seront sans utilité ici. Vous allez apprendre a utiliser deux modules de Python, Requests, qui va vous servir a intéragir avec des API et envoyer des requetes HTTP, ainsi que BeautifoulSoup4, qui va vous servir a parse les données."
   ]
  },
  {
   "cell_type": "markdown",
   "metadata": {},
   "source": [
    "# Premiers pas."
   ]
  },
  {
   "cell_type": "markdown",
   "metadata": {},
   "source": [
    "Commencons par importer nos deux modules ! Voici les commandes a utiliser pour les installer :\n",
    "    \n",
    "    > pip install requests\n",
    "    > pip install bs4\n",
    "\n",
    "Une fois les deux modules installé ils faut les importer dans votre code !"
   ]
  },
  {
   "cell_type": "code",
   "execution_count": 2,
   "metadata": {},
   "outputs": [],
   "source": [
    "import requests\n",
    "from bs4 import BeautifulSoup"
   ]
  },
  {
   "cell_type": "markdown",
   "metadata": {},
   "source": [
    "# Votre premiere requete !"
   ]
  },
  {
   "cell_type": "markdown",
   "metadata": {},
   "source": [
    "Vous allez faire votre premiere requete ! Voici comment fonctionne la fonction requests :\n",
    "\n",
    "**resp = requests.get(url)**\n",
    "\n",
    "Ne vous attardez pas sur les headers pour l'instant ou verra cela plus tard...<br>\n",
    "Vous allez désormais faire votre premiere requete ! Pour ceci entrer l'url d'un site ! (Changez l'url si elle ne fonctionne pas)<br>\n"
   ]
  },
  {
   "cell_type": "code",
   "execution_count": 2,
   "metadata": {},
   "outputs": [
    {
     "ename": "NameError",
     "evalue": "name 'request' is not defined",
     "output_type": "error",
     "traceback": [
      "\u001b[1;31m---------------------------------------------------------------------------\u001b[0m",
      "\u001b[1;31mNameError\u001b[0m                                 Traceback (most recent call last)",
      "\u001b[1;32m~\\AppData\\Local\\Temp/ipykernel_15580/848533325.py\u001b[0m in \u001b[0;36m<module>\u001b[1;34m\u001b[0m\n\u001b[0;32m      3\u001b[0m \u001b[0murl\u001b[0m \u001b[1;33m=\u001b[0m \u001b[1;34m\"\"\u001b[0m\u001b[1;33m\u001b[0m\u001b[1;33m\u001b[0m\u001b[0m\n\u001b[0;32m      4\u001b[0m \u001b[1;31m# Utiliser request ici.\u001b[0m\u001b[1;33m\u001b[0m\u001b[1;33m\u001b[0m\u001b[1;33m\u001b[0m\u001b[0m\n\u001b[1;32m----> 5\u001b[1;33m \u001b[0mresp\u001b[0m \u001b[1;33m=\u001b[0m \u001b[0mrequest\u001b[0m\u001b[1;33m.\u001b[0m\u001b[0mget\u001b[0m\u001b[1;33m(\u001b[0m\u001b[1;33m)\u001b[0m\u001b[1;33m\u001b[0m\u001b[1;33m\u001b[0m\u001b[0m\n\u001b[0m\u001b[0;32m      6\u001b[0m \u001b[1;33m\u001b[0m\u001b[0m\n\u001b[0;32m      7\u001b[0m \u001b[1;32massert\u001b[0m\u001b[1;33m(\u001b[0m\u001b[0mstr\u001b[0m\u001b[1;33m(\u001b[0m\u001b[0mresp\u001b[0m\u001b[1;33m)\u001b[0m \u001b[1;33m==\u001b[0m \u001b[1;34m\"<Response [200]>\"\u001b[0m\u001b[1;33m)\u001b[0m\u001b[1;33m,\u001b[0m \u001b[1;34m\"Vous n'avez pas entré une URL valide.\"\u001b[0m\u001b[1;33m\u001b[0m\u001b[1;33m\u001b[0m\u001b[0m\n",
      "\u001b[1;31mNameError\u001b[0m: name 'request' is not defined"
     ]
    }
   ],
   "source": [
    "# Faites une requete sur ce site : https://api.coindesk.com/v1/bpi/currentprice.json.\n",
    "\n",
    "url = \"\"\n",
    "# Utiliser request ici.\n",
    "resp = \n",
    "\n",
    "assert(str(resp) == \"<Response [200]>\"), \"Vous n'avez pas entré une URL valide.\"\n",
    "print(\"Bien joué, vous avez fait votre premiere requete !\")"
   ]
  },
  {
   "cell_type": "markdown",
   "metadata": {},
   "source": [
    "Vous avez réussi votre ppremiere requete ! Bien joué ! Désormais, il faut comprendre ce qu'elle retourne !<br>\n",
    "Ici resp va retourner la réponse du serveur, en fonction de cette réponse vous allez connaitre l'état du serveur.<br>\n",
    "\n",
    "<img src = \"https://miro.medium.com/max/1400/1*w_iicbG7L3xEQTArjHUS6g.jpeg\" width=\"500\" height=\"auto\"><br>**Différents types de réponse**\n",
    "\n",
    "\n",
    "D'ou l'érreur 404 qui vient d'une URL introuvable par le serveur."
   ]
  },
  {
   "cell_type": "markdown",
   "metadata": {},
   "source": []
  }
 ],
 "metadata": {
  "interpreter": {
   "hash": "ee5cc6fef2d70a7e71ee3826687cbd150f18158e0b1eef11d4f4f92bb920e304"
  },
  "kernelspec": {
   "display_name": "Python 3.9.4 64-bit",
   "language": "python",
   "name": "python3"
  },
  "language_info": {
   "codemirror_mode": {
    "name": "ipython",
    "version": 3
   },
   "file_extension": ".py",
   "mimetype": "text/x-python",
   "name": "python",
   "nbconvert_exporter": "python",
   "pygments_lexer": "ipython3",
   "version": "3.9.4"
  },
  "orig_nbformat": 4
 },
 "nbformat": 4,
 "nbformat_minor": 2
}
