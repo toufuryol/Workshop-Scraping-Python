{
 "cells": [
  {
   "cell_type": "markdown",
   "source": [
    "# Les bases du python !\n",
    "\n",
    "Le langage Python est un langage de programmation open source multi-plateformes et orienté objet. Grâce à des bibliothèques spécialisées, Python s'utilise pour de nombreuses situations comme le développement logiciel, l'analyse de données, ou la gestion d'infrastructures.\n",
    "Python est un language haut niveau et est facile a apprendre car :\n",
    "\n",
    "    1. Le language est tres facile a lire et a comprendre.\n",
    "    2. Python a énormément de librairies, permettant de faire énormément de choses(IA, data sience, web developpement, etc...).\n",
    "    3. Il a une énorme communauté de programmeurs, qui ont probablement les réponses a toutes vos questions."
   ],
   "metadata": {}
  },
  {
   "cell_type": "markdown",
   "source": [
    "Pour ce workshop nous n'allons pas rentrer dans les détails du python, car ils seront sans utilité ici. Vous allez apprendre a utiliser deux modules de Python, Requests, qui va vous servir a intéragir avec des API et envoyer des requetes HTTP, ainsi que BeautifulSoup4, qui va vous servir a parse les données.\n",
    "Pour l'enssemble du WorkShop n'hesitez pas a venir sur le channel question si vous avez besoin d'un coup de pouce."
   ],
   "metadata": {}
  },
  {
   "cell_type": "markdown",
   "source": [
    "# Premiers pas."
   ],
   "metadata": {}
  },
  {
   "cell_type": "markdown",
   "source": [
    "Commencons par importer nos deux modules ! Voici les commandes a utiliser pour les installer :\n",
    "    \n",
    "    > pip install requests\n",
    "    > pip install bs4\n",
    "    > pip install lxml\n",
    "\n",
    "Une fois les deux modules installés il faut les importer dans votre code !"
   ],
   "metadata": {}
  },
  {
   "cell_type": "code",
   "execution_count": 2,
   "source": [
    "import requests\n",
    "from bs4 import BeautifulSoup"
   ],
   "outputs": [],
   "metadata": {}
  },
  {
   "cell_type": "markdown",
   "source": [
    "# Votre première requête !"
   ],
   "metadata": {}
  },
  {
   "cell_type": "markdown",
   "source": [
    "Vous allez faire votre premiere requête ! Voici comment fonctionne la fonction requests :\n",
    "\n",
    "**resp = requests.get(url)**\n",
    "\n",
    "Ne vous attardez pas sur les headers pour l'instant ou verra cela plus tard...<br>\n",
    "Vous allez désormais faire votre première requête ! Pour ceci entrer l'url d'un site ! (Changez l'url si elle ne fonctionne pas)<br>\n"
   ],
   "metadata": {}
  },
  {
   "cell_type": "code",
   "execution_count": 2,
   "source": [
    "# Faites une requète sur ce site : https://api.coindesk.com/v1/bpi/currentprice.json.\n",
    "\n",
    "url = \"\"\n",
    "# Utiliser request ici.\n",
    "resp =\n",
    "\n",
    "assert(str(resp) == \"<Response [200]>\"), \"Vous n'avez pas entré une URL valide.\"\n",
    "print(\"Bien joué, vous avez fait votre premiere requête !\")"
   ],
   "outputs": [
    {
     "output_type": "error",
     "ename": "NameError",
     "evalue": "name 'request' is not defined",
     "traceback": [
      "\u001b[1;31m---------------------------------------------------------------------------\u001b[0m",
      "\u001b[1;31mNameError\u001b[0m                                 Traceback (most recent call last)",
      "\u001b[1;32m~\\AppData\\Local\\Temp/ipykernel_15580/848533325.py\u001b[0m in \u001b[0;36m<module>\u001b[1;34m\u001b[0m\n\u001b[0;32m      3\u001b[0m \u001b[0murl\u001b[0m \u001b[1;33m=\u001b[0m \u001b[1;34m\"\"\u001b[0m\u001b[1;33m\u001b[0m\u001b[1;33m\u001b[0m\u001b[0m\n\u001b[0;32m      4\u001b[0m \u001b[1;31m# Utiliser request ici.\u001b[0m\u001b[1;33m\u001b[0m\u001b[1;33m\u001b[0m\u001b[1;33m\u001b[0m\u001b[0m\n\u001b[1;32m----> 5\u001b[1;33m \u001b[0mresp\u001b[0m \u001b[1;33m=\u001b[0m \u001b[0mrequest\u001b[0m\u001b[1;33m.\u001b[0m\u001b[0mget\u001b[0m\u001b[1;33m(\u001b[0m\u001b[1;33m)\u001b[0m\u001b[1;33m\u001b[0m\u001b[1;33m\u001b[0m\u001b[0m\n\u001b[0m\u001b[0;32m      6\u001b[0m \u001b[1;33m\u001b[0m\u001b[0m\n\u001b[0;32m      7\u001b[0m \u001b[1;32massert\u001b[0m\u001b[1;33m(\u001b[0m\u001b[0mstr\u001b[0m\u001b[1;33m(\u001b[0m\u001b[0mresp\u001b[0m\u001b[1;33m)\u001b[0m \u001b[1;33m==\u001b[0m \u001b[1;34m\"<Response [200]>\"\u001b[0m\u001b[1;33m)\u001b[0m\u001b[1;33m,\u001b[0m \u001b[1;34m\"Vous n'avez pas entré une URL valide.\"\u001b[0m\u001b[1;33m\u001b[0m\u001b[1;33m\u001b[0m\u001b[0m\n",
      "\u001b[1;31mNameError\u001b[0m: name 'request' is not defined"
     ]
    }
   ],
   "metadata": {}
  },
  {
   "cell_type": "markdown",
   "source": [
    "Vous avez réussi votre première requête ! Bien joué ! Désormais, il faut comprendre ce qu'elle retourne !<br>\n",
    "Ici resp va retourner la réponse du serveur, en fonction de cette réponse vous allez connaître l'état du serveur.<br>\n",
    "\n",
    "<img src = \"https://miro.medium.com/max/1400/1*w_iicbG7L3xEQTArjHUS6g.jpeg\" width=\"500\" height=\"auto\"><br>**Différents types de réponse**\n",
    "\n",
    "\n",
    "D'ou l'érreur 404 qui vient d'une URL introuvable par le serveur."
   ],
   "metadata": {}
  },
  {
   "cell_type": "markdown",
   "source": [],
   "metadata": {}
  },
  {
   "cell_type": "markdown",
   "source": [
    "# Recuperer le code source\n",
    "\n",
    "Maintenant que nous avons la réponse serveur on va recuperer le code source de la page. Pour ce faire, il suffit de faire d'appeler votre requête avec \".text\". Afin d'être reconnus par le site nous auront besoin d'ajouter des headers, voyez les headers comme votre passport qui contient des informations sur vous. Pour ajouter les headers a la requête, faite simplement \"headers=headers\" dans requests."
   ],
   "metadata": {}
  },
  {
   "cell_type": "code",
   "execution_count": 10,
   "source": [
    "#Afficher le code source de la page :\n",
    "\n",
    "headers = {'User-Agent': 'Mozilla/5.0 (Windows NT 6.3; Win64; x64) AppleWebKit/537.36 (KHTML, like Gecko) Chrome/54.0.2840.71 Safari/537.36'}\n",
    "\n",
    "resp =\n",
    "\n",
    "\n",
    "\n"
   ],
   "outputs": [],
   "metadata": {}
  },
  {
   "cell_type": "markdown",
   "source": [
    "# Parsing\n",
    "\n",
    "Afin de pouvoir récuperer les informations que l'on shouhaite, on va formater le code recuperé précedement. Nous alons donc utiliser la fonction beautifulSoup(). Celle ci prendra en parametre le code source et la méthode de Parsing ici on utilisera lxml."
   ],
   "metadata": {}
  },
  {
   "cell_type": "code",
   "execution_count": 13,
   "source": [
    "#Afficher le code formater a l'aide de beautifulSoup sur la page amazon\n",
    "\n",
    "headers = {'User-Agent': 'Mozilla/5.0 (Windows NT 6.3; Win64; x64) AppleWebKit/537.36 (KHTML, like Gecko) Chrome/54.0.2840.71 Safari/537.36'}\n",
    "\n",
    "resp =\n",
    "soup ="
   ],
   "outputs": [
    {
     "output_type": "error",
     "ename": "SyntaxError",
     "evalue": "invalid syntax (3749926667.py, line 5)",
     "traceback": [
      "\u001b[0;36m  File \u001b[0;32m\"/tmp/ipykernel_7352/3749926667.py\"\u001b[0;36m, line \u001b[0;32m5\u001b[0m\n\u001b[0;31m    resp =\u001b[0m\n\u001b[0m          ^\u001b[0m\n\u001b[0;31mSyntaxError\u001b[0m\u001b[0;31m:\u001b[0m invalid syntax\n"
     ]
    }
   ],
   "metadata": {}
  },
  {
   "cell_type": "markdown",
   "source": [
    "# Introduction au  html\n",
    "\n",
    "Ca y est vous avez un code source tout propre et prêt a l'emplois ! On va enfin pourvoir rentrer dans le dur du sujet. Si on récuperé le prix de quelques RTX ?\n",
    "\n",
    "Avant tout il faut un peu comprendre comment fonctionne le html. Un code html se divise en balises et sous balises qui contiennent tout ce qu'on voit sur le site (comme du texte, des images etc...). Pour récuperer certaine information il faut préalablement chercher dans le code html dans quel balise elle se trouve. Pour ca rien de plus simple vous aller sur la page en question puis clic droit sur l'information qui vous interesse(le prix par exemple) puis cliquer sur inspecter. Un onglet s'ouvre, il contient le code html et plus précisement la balise contenant votre info. \n",
    "Le code html peut paraitre un peu illisisble au départ mais on s'y habitue assez vite !"
   ],
   "metadata": {}
  },
  {
   "cell_type": "markdown",
   "source": [
    "# Récuperation des données !\n",
    "\n",
    "==> présentation de find <=="
   ],
   "metadata": {}
  },
  {
   "cell_type": "code",
   "execution_count": null,
   "source": [
    "#Récuperer er afficher un prix random"
   ],
   "outputs": [],
   "metadata": {}
  },
  {
   "cell_type": "markdown",
   "source": [
    "# Plus de donnée\n",
    "\n",
    "==> présentation de findAll <=="
   ],
   "metadata": {}
  },
  {
   "cell_type": "code",
   "execution_count": null,
   "source": [
    "#Récuperer afficher un certain nombre de donnée sur un certain nombre d'article"
   ],
   "outputs": [],
   "metadata": {}
  }
 ],
 "metadata": {
  "interpreter": {
   "hash": "e7370f93d1d0cde622a1f8e1c04877d8463912d04d973331ad4851f04de6915a"
  },
  "kernelspec": {
   "name": "python3",
   "display_name": "Python 3.9.6 64-bit"
  },
  "language_info": {
   "codemirror_mode": {
    "name": "ipython",
    "version": 3
   },
   "file_extension": ".py",
   "mimetype": "text/x-python",
   "name": "python",
   "nbconvert_exporter": "python",
   "pygments_lexer": "ipython3",
   "version": "3.9.6"
  },
  "orig_nbformat": 4
 },
 "nbformat": 4,
 "nbformat_minor": 2
}