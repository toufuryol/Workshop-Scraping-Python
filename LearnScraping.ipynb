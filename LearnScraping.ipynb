{
 "cells": [
  {
   "cell_type": "markdown",
   "metadata": {},
   "source": [
    "# Les bases du python !\n",
    "\n",
    "Le langage Python est un langage de programmation open source multi-plateformes et orienté objet. Grâce à des bibliothèques spécialisées, Python s'utilise pour de nombreuses situations comme le développement logiciel, l'analyse de données, ou la gestion d'infrastructures.\n",
    "Python est un language haut niveau et est facile a apprendre car :\n",
    "\n",
    "    1. Le language est tres facile a lire et a comprendre.\n",
    "    2. Python a énormément de librairies, permettant de faire énormément de choses(IA, data sience, web developpement, etc...).\n",
    "    3. Il a une énorme communauté de programmeurs, qui ont probablement les réponses a toutes vos questions."
   ]
  },
  {
   "cell_type": "markdown",
   "metadata": {},
   "source": [
    "Pour ce workshop nous n'allons pas rentrer dans les détails du python, car ils seront sans utilité ici. Vous allez apprendre a utiliser deux modules de Python, Requests, qui va vous servir a intéragir avec des API et envoyer des requetes HTTP, ainsi que BeautifulSoup4, qui va vous servir a parse les données.\n",
    "Pour l'enssemble du WorkShop n'hesitez pas a venir sur le channel question si vous avez besoin d'un coup de pouce."
   ]
  },
  {
   "cell_type": "markdown",
   "metadata": {},
   "source": [
    "# Premiers pas."
   ]
  },
  {
   "cell_type": "markdown",
   "metadata": {},
   "source": [
    "Commencons par importer nos deux modules ! Voici les commandes a utiliser pour les installer :\n",
    "    \n",
    "    > pip install requests\n",
    "    > pip install bs4\n",
    "    > pip install lxml\n",
    "\n",
    "Une fois les deux modules installés il faut les importer dans votre code !"
   ]
  },
  {
   "cell_type": "code",
   "execution_count": 2,
   "metadata": {},
   "outputs": [],
   "source": [
    "import requests\n",
    "from bs4 import BeautifulSoup"
   ]
  },
  {
   "cell_type": "markdown",
   "metadata": {},
   "source": [
    "# Votre première requête !"
   ]
  },
  {
   "cell_type": "markdown",
   "metadata": {},
   "source": [
    "Vous allez faire votre premiere requête ! Voici comment fonctionne la fonction requests :\n",
    "\n",
    "**resp = requests.get(url)**\n",
    "\n",
    "Ne vous attardez pas sur les headers pour l'instant ou verra cela plus tard...<br>\n",
    "Vous allez désormais faire votre première requête ! Pour ceci entrer l'url d'un site ! (Changez l'url si elle ne fonctionne pas)<br>\n"
   ]
  },
  {
   "cell_type": "code",
   "execution_count": 1,
   "metadata": {},
   "outputs": [
    {
     "ename": "SyntaxError",
     "evalue": "invalid syntax (2180396341.py, line 5)",
     "output_type": "error",
     "traceback": [
      "\u001b[0;36m  File \u001b[0;32m\"/tmp/ipykernel_15092/2180396341.py\"\u001b[0;36m, line \u001b[0;32m5\u001b[0m\n\u001b[0;31m    resp =\u001b[0m\n\u001b[0m          ^\u001b[0m\n\u001b[0;31mSyntaxError\u001b[0m\u001b[0;31m:\u001b[0m invalid syntax\n"
     ]
    }
   ],
   "source": [
    "# Faites une requète sur ce site : https://api.coindesk.com/v1/bpi/currentprice.json.\n",
    "\n",
    "url = \"\"\n",
    "# Utiliser request ici.\n",
    "resp =\n",
    "\n",
    "assert(str(resp) == \"<Response [200]>\"), \"Vous n'avez pas entré une URL valide.\"\n",
    "print(\"Bien joué, vous avez fait votre premiere requête !\")"
   ]
  },
  {
   "cell_type": "markdown",
   "metadata": {},
   "source": [
    "Vous avez réussi votre première requête ! Bien joué ! Désormais, il faut comprendre ce qu'elle retourne !<br>\n",
    "Ici resp va retourner la réponse du serveur, en fonction de cette réponse vous allez connaître l'état du serveur.<br>\n",
    "\n",
    "<img src = \"https://miro.medium.com/max/1400/1*w_iicbG7L3xEQTArjHUS6g.jpeg\" width=\"500\" height=\"auto\"><br>**Différents types de réponse**\n",
    "\n",
    "\n",
    "D'ou l'érreur 404 qui vient d'une URL introuvable par le serveur."
   ]
  },
  {
   "cell_type": "markdown",
   "metadata": {},
   "source": []
  },
  {
   "cell_type": "markdown",
   "metadata": {},
   "source": [
    "# Recuperer le code source\n",
    "\n",
    "Maintenant que nous avons la réponse serveur on va recuperer le code source de la page. Pour ce faire, il suffit de faire d'appeler votre requête avec \".text\". Afin d'être reconnus par le site nous auront besoin d'ajouter des headers, voyez les headers comme votre passport qui contient des informations sur vous. Pour ajouter les headers a la requête, faite simplement \"headers=headers\" dans requests."
   ]
  },
  {
   "cell_type": "code",
   "execution_count": 10,
   "metadata": {},
   "outputs": [],
   "source": [
    "#Afficher le code source de la page :\n",
    "\n",
    "headers = {'User-Agent': 'Mozilla/5.0 (Windows NT 6.3; Win64; x64) AppleWebKit/537.36 (KHTML, like Gecko) Chrome/54.0.2840.71 Safari/537.36'}\n",
    "\n",
    "resp = \n",
    "\n",
    "\n",
    "\n"
   ]
  },
  {
   "cell_type": "markdown",
   "metadata": {},
   "source": [
    "# Parsing\n",
    "\n",
    "Afin de pouvoir récuperer les informations que l'on shouhaite, on va formater le code recuperé précedement. Nous alons donc utiliser la fonction beautifulSoup(). Celle ci prendra en parametre le code source et la méthode de Parsing ici on utilisera lxml."
   ]
  },
  {
   "cell_type": "code",
   "execution_count": 1,
   "metadata": {},
   "outputs": [
    {
     "ename": "SyntaxError",
     "evalue": "invalid syntax (1039375348.py, line 3)",
     "output_type": "error",
     "traceback": [
      "\u001b[0;36m  File \u001b[0;32m\"/tmp/ipykernel_23353/1039375348.py\"\u001b[0;36m, line \u001b[0;32m3\u001b[0m\n\u001b[0;31m    resp =\u001b[0m\n\u001b[0m          ^\u001b[0m\n\u001b[0;31mSyntaxError\u001b[0m\u001b[0;31m:\u001b[0m invalid syntax\n"
     ]
    }
   ],
   "source": [
    "# Afficher le code formater a l'aide de beautifulSoup sur la page amazon\n",
    "\n",
    "headers = {'User-Agent': 'Mozilla/5.0 (Windows NT 6.3; Win64; x64) AppleWebKit/537.36 (KHTML, like Gecko) Chrome/54.0.2840.71 Safari/537.36'}\n",
    "\n",
    "resp =\n",
    "soup ="
   ]
  },
  {
   "cell_type": "markdown",
   "metadata": {},
   "source": [
    "# Introduction au  html\n",
    "\n",
    "Avant tout il faut un peu comprendre comment fonctionne le html. Un code html se divise en balises et sous balises qui contiennent tout ce qu'on voit sur le site (comme du texte, des images etc...). Pour récuperer certaine information il faut préalablement chercher dans le code html dans quel balise elle se trouve. Pour ca rien de plus simple vous aller sur la page en question puis clic droit sur l'information qui vous interesse(le prix par exemple) puis cliquer sur inspecter. Un onglet s'ouvre, il contient le code html et plus précisement la balise contenant votre info. \n",
    "Le code html peut paraitre un peu illisisble au départ mais on s'y habitue assez vite !"
   ]
  },
  {
   "cell_type": "markdown",
   "metadata": {},
   "source": [
    "# Récuperation des données !\n",
    "\n",
    "Pour récuperer facilement une partie du code html afin de récuperer certaines informations on utilise la fonction find(). find() nous permettra de recuperer le code html situé de la balise donné en paramètre. Si je souhaite récuperer le contenu de la balise 'h3' alors je ferais soup.find(\"h3\"). "
   ]
  },
  {
   "cell_type": "code",
   "execution_count": null,
   "metadata": {},
   "outputs": [],
   "source": [
    "#Afficher le prix de l'article sur la page donnée\n",
    "\n",
    "url = \"https://www.amazon.fr/Gigabyte-GeForce-Gaming-NVIDIA-GDDR6X/dp/B096Y36BM3/ref=sr_1_1_sspa?__mk_fr_FR=%C3%85M%C3%85%C5%BD%C3%95%C3%91&crid=27MBOTPA4A7LC&keywords=RTX&qid=1643893070&sprefix=rtx%2Caps%2C69&sr=8-1-spons&psc=1&smid=A1TLIS48UYLPE3&spLa=ZW5jcnlwdGVkUXVhbGlmaWVyPUExN0syUkxXWUIzRlVKJmVuY3J5cHRlZElkPUEwMzAxODU0MVlKTFhBQzE1VjZFUyZlbmNyeXB0ZWRBZElkPUEwNjc3MTk1MzU1OVFOWURFQldCVCZ3aWRnZXROYW1lPXNwX2F0ZiZhY3Rpb249Y2xpY2tSZWRpcmVjdCZkb05vdExvZ0NsaWNrPXRydWU=\"\n",
    "\n"
   ]
  },
  {
   "cell_type": "markdown",
   "metadata": {},
   "source": [
    "# Plus de donnée\n",
    "\n",
    "\n",
    "Récuperer une balise c'est bien pratique mais pour comparer tous les articles d'une page ou bien répertorier toutes les notes ca deviens plus compliqué. Pour ca on utilise la fonction find_all qui permet de récuperer le code de toute les balises ayant le nom donnés en paramètre et les retourne en tant que liste. Pour les plus motivé d'entre vous on propose deux dernier exo qui reprendront ce qu'on a vus precedement."
   ]
  },
  {
   "cell_type": "code",
   "execution_count": null,
   "metadata": {},
   "outputs": [],
   "source": [
    "#pour cette avant dernier exercice on vous propose de récuperer les 10 titres, date de sortie, nom de réalisateur ainsi que synopsys des 10 meilleurs film (Selon allo-ciné...);\n",
    "\n",
    "url = \"https://www.allocine.fr/film/meilleurs/\""
   ]
  },
  {
   "cell_type": "markdown",
   "metadata": {},
   "source": [
    "# Utilisation des données récuperées\n",
    "\n",
    "Vous avez récupéré les données demandées. C'est bien mais pour le moment pas vraiment utile. Le web scrapping à beaucoup d'utilité a condition de savoir quoi faire de la dat scrapé. Par exemple on pourrait donner le contenu repérer à une IA pour que celle-ci apprenne dessus ou bien générer des alertes en fonction des chutes/hausses des prix etc.\n",
    "Ici on vous montrera seulement comment stockez-la data dans un CSV."
   ]
  },
  {
   "cell_type": "markdown",
   "metadata": {},
   "source": [
    "Pour écrire dans un CSV c'est très simple ! Il faut utiliser la fonction writerow de la lib Csv, avant ça il faut seulement ouvrir le fichier avec open, puis on peut écrire dedans ligne par ligne avec une boucle"
   ]
  },
  {
   "cell_type": "code",
   "execution_count": null,
   "metadata": {},
   "outputs": [],
   "source": [
    "import csv\n",
    "\n",
    "with open(\"data.csv\", \"w\", newline = \"\") as f :\n",
    "    writer = csv.writer(f)\n",
    "    writer = writerow([\"Nom du film\", \"date\", \"durée\", \"genres\", \"réalisateur\"]) #Pour écrire dans le Csv il faut une liste, avec les éléments correspondant."
   ]
  }
 ],
 "metadata": {
  "interpreter": {
   "hash": "e7370f93d1d0cde622a1f8e1c04877d8463912d04d973331ad4851f04de6915a"
  },
  "kernelspec": {
   "display_name": "Python 3.9.9 64-bit",
   "name": "python3"
  },
  "language_info": {
   "codemirror_mode": {
    "name": "ipython",
    "version": 3
   },
   "file_extension": ".py",
   "mimetype": "text/x-python",
   "name": "python",
   "nbconvert_exporter": "python",
   "pygments_lexer": "ipython3",
   "version": "3.9.9"
  },
  "orig_nbformat": 4
 },
 "nbformat": 4,
 "nbformat_minor": 2
}
